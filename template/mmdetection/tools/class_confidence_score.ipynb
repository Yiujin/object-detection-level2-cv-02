{
 "cells": [
  {
   "cell_type": "code",
   "execution_count": 30,
   "metadata": {},
   "outputs": [],
   "source": [
    "import os\n",
    "import pandas as pd\n",
    "from collections import defaultdict\n",
    "\n",
    "import matplotlib.pyplot as plt\n",
    "import numpy as np"
   ]
  },
  {
   "cell_type": "code",
   "execution_count": 5,
   "metadata": {},
   "outputs": [
    {
     "data": {
      "text/html": [
       "<div>\n",
       "<style scoped>\n",
       "    .dataframe tbody tr th:only-of-type {\n",
       "        vertical-align: middle;\n",
       "    }\n",
       "\n",
       "    .dataframe tbody tr th {\n",
       "        vertical-align: top;\n",
       "    }\n",
       "\n",
       "    .dataframe thead th {\n",
       "        text-align: right;\n",
       "    }\n",
       "</style>\n",
       "<table border=\"1\" class=\"dataframe\">\n",
       "  <thead>\n",
       "    <tr style=\"text-align: right;\">\n",
       "      <th></th>\n",
       "      <th>PredictionString</th>\n",
       "      <th>image_id</th>\n",
       "    </tr>\n",
       "  </thead>\n",
       "  <tbody>\n",
       "    <tr>\n",
       "      <th>0</th>\n",
       "      <td>0 0.4428743 499.05365 598.3901 547.89044 640.8...</td>\n",
       "      <td>test/0000.jpg</td>\n",
       "    </tr>\n",
       "    <tr>\n",
       "      <th>1</th>\n",
       "      <td>0 0.06434134 349.3742 252.16779 752.017 706.64...</td>\n",
       "      <td>test/0001.jpg</td>\n",
       "    </tr>\n",
       "    <tr>\n",
       "      <th>2</th>\n",
       "      <td>0 0.99811006 880.19275 469.25314 1020.9468 638...</td>\n",
       "      <td>test/0002.jpg</td>\n",
       "    </tr>\n",
       "    <tr>\n",
       "      <th>3</th>\n",
       "      <td>0 0.15390766 12.328217 9.556961 988.72925 350....</td>\n",
       "      <td>test/0003.jpg</td>\n",
       "    </tr>\n",
       "    <tr>\n",
       "      <th>4</th>\n",
       "      <td>0 0.9917766 429.38522 405.44232 658.5447 566.3...</td>\n",
       "      <td>test/0004.jpg</td>\n",
       "    </tr>\n",
       "  </tbody>\n",
       "</table>\n",
       "</div>"
      ],
      "text/plain": [
       "                                    PredictionString       image_id\n",
       "0  0 0.4428743 499.05365 598.3901 547.89044 640.8...  test/0000.jpg\n",
       "1  0 0.06434134 349.3742 252.16779 752.017 706.64...  test/0001.jpg\n",
       "2  0 0.99811006 880.19275 469.25314 1020.9468 638...  test/0002.jpg\n",
       "3  0 0.15390766 12.328217 9.556961 988.72925 350....  test/0003.jpg\n",
       "4  0 0.9917766 429.38522 405.44232 658.5447 566.3...  test/0004.jpg"
      ]
     },
     "execution_count": 5,
     "metadata": {},
     "output_type": "execute_result"
    }
   ],
   "source": [
    "df = pd.read_csv('/opt/ml/detection/object-detection-level2-cv-02/template/mmdetection/work_dirs/sota_beat/output.csv')\n",
    "df.head()"
   ]
  },
  {
   "cell_type": "code",
   "execution_count": 48,
   "metadata": {},
   "outputs": [],
   "source": [
    "# 클래스 별 confidence score 통계값 계산\n",
    "confs_per_class = defaultdict(list)\n",
    "for ps in df['PredictionString']:\n",
    "    psl = ps.split()\n",
    "    # print(psl)\n",
    "    prn = len(psl) - 6\n",
    "    # print(len(psl), prn)\n",
    "    tmp = []\n",
    "    for i in range(0, prn, 6):\n",
    "        class_i = psl[i]\n",
    "        score_i = psl[i+1]        \n",
    "        # print(class_i, score_i)\n",
    "        confs_per_class[f'{class_i}'].append(score_i) # 각 클래스에 해당하는 confidence score 입력\n",
    "        \n",
    "\n",
    "    # print(confs_per_class)\n",
    "    # break\n",
    "# predict_string = df[df[\"image_id\"] == image_id][\"PredictionString\"].tolist()[0]\n",
    "# for i in \n",
    "# predict_list = str(predict_string).split()"
   ]
  },
  {
   "cell_type": "code",
   "execution_count": 49,
   "metadata": {},
   "outputs": [
    {
     "name": "stdout",
     "output_type": "stream",
     "text": [
      "140724 General trash\n",
      "79575 Paper\n",
      "19875 Paper pack\n",
      "33422 Metal\n",
      "15676 Glass\n",
      "70832 Plastic\n",
      "29228 Styrofoam\n",
      "73172 Plastic bag\n",
      "5928 Battery\n",
      "13797 Clothing\n"
     ]
    }
   ],
   "source": [
    "# 각 클래스 예측 갯수\n",
    "\n",
    "classes = [\n",
    "    \"General trash\",\n",
    "    \"Paper\",\n",
    "    \"Paper pack\",\n",
    "    \"Metal\",\n",
    "    \"Glass\",\n",
    "    \"Plastic\",\n",
    "    \"Styrofoam\",\n",
    "    \"Plastic bag\",\n",
    "    \"Battery\",\n",
    "    \"Clothing\",\n",
    "]\n",
    "\n",
    "for i in range(10):\n",
    "    print(len(confs_per_class[f'{i}']), classes[i])"
   ]
  },
  {
   "cell_type": "code",
   "execution_count": 50,
   "metadata": {},
   "outputs": [
    {
     "data": {
      "text/html": [
       "<div>\n",
       "<style scoped>\n",
       "    .dataframe tbody tr th:only-of-type {\n",
       "        vertical-align: middle;\n",
       "    }\n",
       "\n",
       "    .dataframe tbody tr th {\n",
       "        vertical-align: top;\n",
       "    }\n",
       "\n",
       "    .dataframe thead th {\n",
       "        text-align: right;\n",
       "    }\n",
       "</style>\n",
       "<table border=\"1\" class=\"dataframe\">\n",
       "  <thead>\n",
       "    <tr style=\"text-align: right;\">\n",
       "      <th></th>\n",
       "      <th>0</th>\n",
       "    </tr>\n",
       "  </thead>\n",
       "  <tbody>\n",
       "    <tr>\n",
       "      <th>count</th>\n",
       "      <td>13797</td>\n",
       "    </tr>\n",
       "    <tr>\n",
       "      <th>unique</th>\n",
       "      <td>13780</td>\n",
       "    </tr>\n",
       "    <tr>\n",
       "      <th>top</th>\n",
       "      <td>8.254487e-06</td>\n",
       "    </tr>\n",
       "    <tr>\n",
       "      <th>freq</th>\n",
       "      <td>2</td>\n",
       "    </tr>\n",
       "  </tbody>\n",
       "</table>\n",
       "</div>"
      ],
      "text/plain": [
       "                   0\n",
       "count          13797\n",
       "unique         13780\n",
       "top     8.254487e-06\n",
       "freq               2"
      ]
     },
     "execution_count": 50,
     "metadata": {},
     "output_type": "execute_result"
    }
   ],
   "source": [
    "general = pd.DataFrame(confs_per_class[f'{i}'])\n",
    "general.describe(include='all')\n",
    "# general.info()"
   ]
  },
  {
   "cell_type": "code",
   "execution_count": 66,
   "metadata": {},
   "outputs": [
    {
     "name": "stdout",
     "output_type": "stream",
     "text": [
      " 0 General trash  0.0000  1.0000  0.0297  0.0000\n",
      " 1 Paper  0.0000  1.0000  0.0929  0.0004\n",
      " 2 Paper pack  0.0000  1.0000  0.0447  0.0001\n",
      " 3 Metal  0.0000  1.0000  0.0258  0.0000\n",
      " 4 Glass  0.0000  1.0000  0.0659  0.0001\n",
      " 5 Plastic  0.0000  1.0000  0.0451  0.0000\n",
      " 6 Styrofoam  0.0000  0.9999  0.0401  0.0001\n",
      " 7 Plastic bag  0.0000  1.0000  0.0801  0.0001\n",
      " 8 Battery  0.0000  1.0000  0.0245  0.0000\n",
      " 9 Clothing  0.0000  1.0000  0.0352  0.0001\n"
     ]
    }
   ],
   "source": [
    "# 각 클래스 별 confidence score 통계\n",
    "for i in range(10):\n",
    "    npar = np.array(confs_per_class[f'{i}'], dtype = float)\n",
    "    min_v, max_v= np.min(npar), np.max(npar)\n",
    "    mean_v = np.mean(npar)\n",
    "    median_v = np.median(npar)\n",
    "    # print(i, classes[i], min_v ,max_v, mean_v, median_v)\n",
    "    print(f'{i : 1d}', \n",
    "        f'{classes[i]}', \n",
    "        f'{min_v : .4f}',\n",
    "        f'{max_v : .4f}',\n",
    "        f'{mean_v : .4f}',\n",
    "        f'{median_v : .4f}')\n",
    "    \n",
    "# fig, axes = plt.subplots(5,5, figsize=(20,20))\n",
    "# # for i in range()\n",
    "\n",
    "# fig = plt.subplot()\n",
    "# x = [i for i in range(len(confs_per_class[f'{i}']))]\n",
    "# y = np.array(confs_per_class[f'{i}'])\n",
    "\n",
    "# axes[0][0].bar(x,y)\n",
    "# # axes[1].barh(x, y, color=color)\n",
    "\n",
    "# # plt.plot(confs_per_class[f'{0}'])\n",
    "# plt.show()"
   ]
  },
  {
   "cell_type": "code",
   "execution_count": null,
   "metadata": {},
   "outputs": [],
   "source": []
  }
 ],
 "metadata": {
  "interpreter": {
   "hash": "b94c6de4bce9a87a354a5fa9998691adc0532adddb9d4140f5ba941d00b01fae"
  },
  "kernelspec": {
   "display_name": "Python 3.7.11 64-bit ('detection': conda)",
   "name": "python3"
  },
  "language_info": {
   "codemirror_mode": {
    "name": "ipython",
    "version": 3
   },
   "file_extension": ".py",
   "mimetype": "text/x-python",
   "name": "python",
   "nbconvert_exporter": "python",
   "pygments_lexer": "ipython3",
   "version": "3.7.11"
  },
  "orig_nbformat": 4
 },
 "nbformat": 4,
 "nbformat_minor": 2
}
